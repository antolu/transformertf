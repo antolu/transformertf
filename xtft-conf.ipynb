{
  "cells": [
    {
      "cell_type": "code",
      "execution_count": 1,
      "id": "7cd93499",
      "metadata": {},
      "outputs": [],
      "source": [
        "from __future__ import annotations\n",
        "\n",
        "from transformertf.models.xtft_conv import xTFTConv"
      ]
    },
    {
      "cell_type": "code",
      "execution_count": 12,
      "id": "4b189ac5",
      "metadata": {},
      "outputs": [],
      "source": [
        "model = xTFTConv(\n",
        "    num_lstm_layers=1,\n",
        "    num_heads=8,\n",
        "    n_dim_model=128,\n",
        "    num_future_features=2,\n",
        "    num_past_features=3,\n",
        "    hidden_continuous_dim=16,\n",
        "    dropout=0.1,\n",
        "    downsample_factor=2,\n",
        ")"
      ]
    },
    {
      "cell_type": "code",
      "execution_count": 13,
      "id": "8708b97b",
      "metadata": {},
      "outputs": [
        {
          "name": "stdout",
          "output_type": "stream",
          "text": [
            "enc_vs: VariableSelection - 18390 parameters\n",
            "dec_vs: VariableSelection - 6334 parameters\n",
            "flip_conv: Rearrange - 0 parameters\n",
            "reverse_flip_conv: Rearrange - 0 parameters\n",
            "dec_ds: Sequential - 30304 parameters\n",
            "enc_ds: Sequential - 61520 parameters\n",
            "enc_lstm: LSTM - 132096 parameters\n",
            "dec_lstm: LSTM - 132096 parameters\n",
            "enc_gate1: GatedLinearUnit - 33024 parameters\n",
            "enc_norm1: AddNorm - 256 parameters\n",
            "attn: InterpretableMultiHeadAttention - 37264 parameters\n",
            "attn_gate1: GatedLinearUnit - 33024 parameters\n",
            "attn_norm1: AddNorm - 256 parameters\n",
            "attn_grn: GatedResidualNetwork - 66304 parameters\n",
            "attn_gate2: GatedLinearUnit - 33024 parameters\n",
            "attn_norm2: AddNorm - 256 parameters\n",
            "output_layer: Linear - 4128 parameters\n",
            "dec_us: Sequential - 88128 parameters\n",
            "output_layer2: Linear - 231 parameters\n"
          ]
        }
      ],
      "source": [
        "# print a model summary with number of parameters\n",
        "for name, layer in model.model.named_children():\n",
        "    print(\n",
        "        f\"{name}: {layer.__class__.__name__} - {sum(p.numel() for p in layer.parameters() if p.requires_grad)} parameters\"\n",
        "    )"
      ]
    },
    {
      "cell_type": "code",
      "execution_count": 14,
      "id": "13b05824",
      "metadata": {},
      "outputs": [
        {
          "name": "stdout",
          "output_type": "stream",
          "text": [
            "Total number of trainable parameters: 676635\n"
          ]
        }
      ],
      "source": [
        "# total number of parameters\n",
        "total_params = sum(p.numel() for p in model.model.parameters() if p.requires_grad)\n",
        "print(f\"Total number of trainable parameters: {total_params}\")"
      ]
    },
    {
      "cell_type": "code",
      "execution_count": null,
      "id": "9c62b7ba",
      "metadata": {},
      "outputs": [],
      "source": []
    }
  ],
  "metadata": {
    "kernelspec": {
      "display_name": "acc-py",
      "language": "python",
      "name": "python3"
    },
    "language_info": {
      "codemirror_mode": {
        "name": "ipython",
        "version": 3
      },
      "file_extension": ".py",
      "mimetype": "text/x-python",
      "name": "python",
      "nbconvert_exporter": "python",
      "pygments_lexer": "ipython3",
      "version": "3.11.11"
    }
  },
  "nbformat": 4,
  "nbformat_minor": 5
}
